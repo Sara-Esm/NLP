{
  "nbformat": 4,
  "nbformat_minor": 0,
  "metadata": {
    "colab": {
      "provenance": [],
      "authorship_tag": "ABX9TyMHKOaciungzVmlRdpVdnpy",
      "include_colab_link": true
    },
    "kernelspec": {
      "name": "python3",
      "display_name": "Python 3"
    },
    "language_info": {
      "name": "python"
    }
  },
  "cells": [
    {
      "cell_type": "markdown",
      "metadata": {
        "id": "view-in-github",
        "colab_type": "text"
      },
      "source": [
        "<a href=\"https://colab.research.google.com/github/Sara-Esm/Natural-Language-Processing-NLP-and-generative-AI/blob/main/Text_Generation_Demo.ipynb\" target=\"_parent\"><img src=\"https://colab.research.google.com/assets/colab-badge.svg\" alt=\"Open In Colab\"/></a>"
      ]
    },
    {
      "cell_type": "code",
      "source": [
        "# Import necessary libraries\n",
        "from transformers import GPT2Tokenizer, GPT2LMHeadModel\n",
        "import torch\n",
        "\n",
        "# Function to generate text using GPT-2\n",
        "def generate_text(prompt, model, tokenizer, max_length=100, temperature=0.8, top_p=0.9, top_k=50):\n",
        " try:\n",
        "        # Encode the input prompt\n",
        "        input_ids = tokenizer.encode(prompt, return_tensors=\"pt\")\n",
        "\n",
        "        # Generate output\n",
        "        output = model.generate(\n",
        "            input_ids,\n",
        "            attention_mask=torch.ones_like(input_ids),  # Explicit attention mask\n",
        "            max_length=max_length,\n",
        "            num_return_sequences=1,\n",
        "            temperature=temperature,\n",
        "            top_p=top_p,\n",
        "            top_k=top_k,\n",
        "            do_sample=True,\n",
        "            repetition_penalty=1.2,\n",
        "            pad_token_id=tokenizer.eos_token_id  # Explicitly set pad_token_id\n",
        "            )\n",
        "\n",
        "\n",
        "\n",
        "        # Decode the generated text\n",
        "        response_text = tokenizer.decode(output[0], skip_special_tokens=True)\n",
        "        return response_text\n",
        "\n",
        " except Exception as e:\n",
        "        return f\"Error during text generation: {e}\"\n",
        "\n",
        "\n",
        "# Main script\n",
        "if __name__ == \"__main__\":\n",
        "    # Load pre-trained tokenizer and model\n",
        "    print(\"Loading GPT-2 model and tokenizer...\")\n",
        "    tokenizer = GPT2Tokenizer.from_pretrained('gpt2')\n",
        "    model = GPT2LMHeadModel.from_pretrained('gpt2')\n",
        "    print(\"GPT-2 model and tokenizer loaded successfully!\")\n",
        "\n",
        "    # Prompt for user input\n",
        "    print(\"\\nWelcome to the GPT-2 Text Generator!\")\n",
        "    prompt = input(\"Enter a prompt for the model: \")\n",
        "\n",
        "    # Generate and display the model's response\n",
        "    print(\"\\nGenerating text...\")\n",
        "    response = generate_text(prompt, model, tokenizer)\n",
        "    print(\"\\nModel Response:\")\n",
        "    print(response)"
      ],
      "metadata": {
        "colab": {
          "base_uri": "https://localhost:8080/"
        },
        "id": "WnrhyXP27BcG",
        "outputId": "c1b85b30-29ae-4197-c1ab-12c8cf081811"
      },
      "execution_count": 9,
      "outputs": [
        {
          "output_type": "stream",
          "name": "stdout",
          "text": [
            "Loading GPT-2 model and tokenizer...\n",
            "GPT-2 model and tokenizer loaded successfully!\n",
            "\n",
            "Welcome to the GPT-2 Text Generator!\n",
            "Enter a prompt for the model: Artificial Intelligence is revolutionizing the world of technology.\n",
            "\n",
            "Generating text...\n",
            "\n",
            "Model Response:\n",
            "Artificial Intelligence is revolutionizing the world of technology. A new generation of AI researchers and leaders, from Google to IBM have created a broad range not only in artificial intelligence (AI) but also medicine as well – using machine learning algorithms that can understand human needs for medical care on demand or at risk without manual intervention by doctors themselves.\n",
            ": The future looks bright! There are so many exciting ways these technologies could be applied; whether they're used today's pharmaceuticals & biotech companies — such has\n"
          ]
        }
      ]
    }
  ]
}