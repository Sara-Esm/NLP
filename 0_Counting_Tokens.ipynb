{
  "nbformat": 4,
  "nbformat_minor": 0,
  "metadata": {
    "colab": {
      "provenance": [],
      "authorship_tag": "ABX9TyMtFZT/IEJpftLrA5RhN5c+",
      "include_colab_link": true
    },
    "kernelspec": {
      "name": "python3",
      "display_name": "Python 3"
    },
    "language_info": {
      "name": "python"
    }
  },
  "cells": [
    {
      "cell_type": "markdown",
      "metadata": {
        "id": "view-in-github",
        "colab_type": "text"
      },
      "source": [
        "<a href=\"https://colab.research.google.com/github/Sara-Esm/Natural-Language-Processing-NLP-and-generative-AI/blob/main/0_Counting_Tokens.ipynb\" target=\"_parent\"><img src=\"https://colab.research.google.com/assets/colab-badge.svg\" alt=\"Open In Colab\"/></a>"
      ]
    },
    {
      "cell_type": "markdown",
      "source": [
        "Tokenizer Comparison: GPT-2 vs. BERT"
      ],
      "metadata": {
        "id": "NKOBeDze5BP6"
      }
    },
    {
      "cell_type": "code",
      "source": [
        "# Importing libraries\n",
        "from transformers import AutoTokenizer\n",
        "import matplotlib.pyplot as plt"
      ],
      "metadata": {
        "id": "dXuP8I_2evJ1"
      },
      "execution_count": 21,
      "outputs": []
    },
    {
      "cell_type": "code",
      "source": [
        "def count_tokens(text, tokenizer):\n",
        "  tokens = tokenizer.tokenize(text)\n",
        "  return len(tokens)\n",
        "\n",
        "def plot_token_counts(models, counts, title, colors):\n",
        "  plt.bar(models, counts, color=colors)\n",
        "  plt.title(title)\n",
        "  plt.xlabel('Models')\n",
        "  plt.ylabel('Number of Tokens')\n",
        "  plt.show()"
      ],
      "metadata": {
        "id": "l-Zj4OBusXYe"
      },
      "execution_count": 22,
      "outputs": []
    },
    {
      "cell_type": "code",
      "source": [
        "# Function to visualize token counts\n",
        "def plot_token_counts(models, counts, title, colors):\n",
        "    plt.bar(models, counts, color=colors)\n",
        "    plt.title(title)\n",
        "    plt.xlabel('Models')\n",
        "    plt.ylabel('Number of Tokens')\n",
        "    plt.show()"
      ],
      "metadata": {
        "id": "5ze7YdJNyq2C"
      },
      "execution_count": 26,
      "outputs": []
    },
    {
      "cell_type": "code",
      "source": [
        "# Load tokenizers for GPT-2 and BERT\n",
        "gpt2_tokenizer = AutoTokenizer.from_pretrained(\"gpt2\")\n",
        "bert_tokenizer = AutoTokenizer.from_pretrained(\"bert-base-uncased\")"
      ],
      "metadata": {
        "id": "2HcLRDzW4EB_"
      },
      "execution_count": 27,
      "outputs": []
    },
    {
      "cell_type": "code",
      "source": [
        "# Example text\n",
        "example_text = \"Tokenization is the process of splitting text into smaller units called tokens.\""
      ],
      "metadata": {
        "id": "y08c4Iok4IjM"
      },
      "execution_count": 28,
      "outputs": []
    },
    {
      "cell_type": "code",
      "source": [
        "# Count tokens using GPT-2 and BERT\n",
        "gpt2_token_count = count_tokens(example_text, gpt2_tokenizer)\n",
        "bert_token_count = count_tokens(example_text, bert_tokenizer)"
      ],
      "metadata": {
        "id": "-SSq9FWe4NRi"
      },
      "execution_count": 29,
      "outputs": []
    },
    {
      "cell_type": "code",
      "source": [
        "# Print results for single example text\n",
        "print(f\"Number of tokens in GPT-2 (single text): {gpt2_token_count}\")\n",
        "print(f\"Number of tokens in BERT (single text): {bert_token_count}\")"
      ],
      "metadata": {
        "colab": {
          "base_uri": "https://localhost:8080/"
        },
        "id": "IQnh4BXw4R8p",
        "outputId": "322f3ae8-d365-4bba-922e-421a2697aca0"
      },
      "execution_count": 30,
      "outputs": [
        {
          "output_type": "stream",
          "name": "stdout",
          "text": [
            "Number of tokens in GPT-2 (single text): 14\n",
            "Number of tokens in BERT (single text): 15\n"
          ]
        }
      ]
    },
    {
      "cell_type": "code",
      "source": [
        "# Multi-turn conversation example\n",
        "multi_turn_text = (\n",
        "    \"Human: Hello, how are you?\\n\"\n",
        "    \"AI: I'm just a program, but I'm functioning as expected.\\n\"\n",
        "    \"Human: Can you help me with tokenization?\\n\"\n",
        "    \"AI: Absolutely! Tokenization is the process of splitting text into smaller units.\"\n",
        ")"
      ],
      "metadata": {
        "id": "t9bqR15Z4WsB"
      },
      "execution_count": 31,
      "outputs": []
    },
    {
      "cell_type": "code",
      "source": [
        "# Count tokens in multi-turn conversation\n",
        "gpt2_multi_turn_token_count = count_tokens(multi_turn_text, gpt2_tokenizer)\n",
        "bert_multi_turn_token_count = count_tokens(multi_turn_text, bert_tokenizer)"
      ],
      "metadata": {
        "id": "SrhWnNOX4aAD"
      },
      "execution_count": 32,
      "outputs": []
    },
    {
      "cell_type": "code",
      "source": [
        "# Print results for multi-turn conversation\n",
        "print(f\"Number of tokens in GPT-2 (multi-turn): {gpt2_multi_turn_token_count}\")\n",
        "print(f\"Number of tokens in BERT (multi-turn): {bert_multi_turn_token_count}\")"
      ],
      "metadata": {
        "colab": {
          "base_uri": "https://localhost:8080/"
        },
        "id": "9e7fZRev4aUt",
        "outputId": "abdff18e-5a1d-4884-e8fa-228553d27f29"
      },
      "execution_count": 33,
      "outputs": [
        {
          "output_type": "stream",
          "name": "stdout",
          "text": [
            "Number of tokens in GPT-2 (multi-turn): 52\n",
            "Number of tokens in BERT (multi-turn): 51\n"
          ]
        }
      ]
    },
    {
      "cell_type": "code",
      "source": [
        "# Visualization of token counts\n",
        "# Single example text\n",
        "plot_token_counts(\n",
        "    models=['GPT-2', 'BERT'],\n",
        "    counts=[gpt2_token_count, bert_token_count],\n",
        "    title='Token Counts for Example Text',\n",
        "    colors=['blue', 'orange']\n",
        ")"
      ],
      "metadata": {
        "colab": {
          "base_uri": "https://localhost:8080/",
          "height": 472
        },
        "id": "Va-MbZwl4f33",
        "outputId": "86a07d1c-7420-43ad-9727-04a8aa100577"
      },
      "execution_count": 34,
      "outputs": [
        {
          "output_type": "display_data",
          "data": {
            "text/plain": [
              "<Figure size 640x480 with 1 Axes>"
            ],
            "image/png": "[encoded data removed]"
          },
          "metadata": {}
        }
      ]
    },
    {
      "cell_type": "code",
      "source": [
        "# Multi-turn conversation\n",
        "plot_token_counts(\n",
        "    models=['GPT-2', 'BERT'],\n",
        "    counts=[gpt2_multi_turn_token_count, bert_multi_turn_token_count],\n",
        "    title='Token Counts for Multi-turn Conversation',\n",
        "    colors=['green', 'red']\n",
        ")"
      ],
      "metadata": {
        "colab": {
          "base_uri": "https://localhost:8080/",
          "height": 472
        },
        "id": "OyK9Wktv4jCc",
        "outputId": "e6061249-2cc8-4575-9e3f-10a3faad41ff"
      },
      "execution_count": 35,
      "outputs": [
        {
          "output_type": "display_data",
          "data": {
            "text/plain": [
              "<Figure size 640x480 with 1 Axes>"
            ],
            "image/png": "[encoded data removed]"
          },
          "metadata": {}
        }
      ]
    },
    {
      "cell_type": "code",
      "source": [
        "# User input for real-time tokenization comparison\n",
        "user_input = input(\"Enter a sentence to tokenize: \")\n",
        "gpt2_user_tokens = count_tokens(user_input, gpt2_tokenizer)\n",
        "bert_user_tokens = count_tokens(user_input, bert_tokenizer)"
      ],
      "metadata": {
        "colab": {
          "base_uri": "https://localhost:8080/"
        },
        "id": "g9ceIvQH4l7f",
        "outputId": "4fa04f5d-14cc-4144-a0a7-2d197046b995"
      },
      "execution_count": 36,
      "outputs": [
        {
          "name": "stdout",
          "output_type": "stream",
          "text": [
            "Enter a sentence to tokenize: I currently have 4 windows open up… and I don’t know why.\n"
          ]
        }
      ]
    },
    {
      "cell_type": "code",
      "source": [
        "print(f\"Number of tokens in your text with GPT-2: {gpt2_user_tokens}\")\n",
        "print(f\"Number of tokens in your text with BERT: {bert_user_tokens}\")"
      ],
      "metadata": {
        "colab": {
          "base_uri": "https://localhost:8080/"
        },
        "id": "DClZgs0s4pkc",
        "outputId": "8a49d38a-24f8-4b56-f62b-7163f08cfa27"
      },
      "execution_count": 37,
      "outputs": [
        {
          "output_type": "stream",
          "name": "stdout",
          "text": [
            "Number of tokens in your text with GPT-2: 17\n",
            "Number of tokens in your text with BERT: 16\n"
          ]
        }
      ]
    }
  ]
}