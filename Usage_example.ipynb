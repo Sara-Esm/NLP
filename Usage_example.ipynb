{
  "nbformat": 4,
  "nbformat_minor": 0,
  "metadata": {
    "colab": {
      "provenance": [],
      "authorship_tag": "ABX9TyMv1y2QpFCujow1xMwieJSE",
      "include_colab_link": true
    },
    "kernelspec": {
      "name": "python3",
      "display_name": "Python 3"
    },
    "language_info": {
      "name": "python"
    }
  },
  "cells": [
    {
      "cell_type": "markdown",
      "metadata": {
        "id": "view-in-github",
        "colab_type": "text"
      },
      "source": [
        "<a href=\"https://colab.research.google.com/github/Sara-Esm/NLP/blob/main/Usage_example.ipynb\" target=\"_parent\"><img src=\"https://colab.research.google.com/assets/colab-badge.svg\" alt=\"Open In Colab\"/></a>"
      ]
    },
    {
      "cell_type": "code",
      "execution_count": 8,
      "metadata": {
        "colab": {
          "base_uri": "https://localhost:8080/"
        },
        "id": "jPPE0nJs3-RQ",
        "outputId": "069eb6fc-8141-415f-93c9-1bcfb4acdab9"
      },
      "outputs": [
        {
          "output_type": "stream",
          "name": "stdout",
          "text": [
            "GPT-2 model and tokenizer loaded successfully!\n"
          ]
        }
      ],
      "source": [
        "from transformers import GPT2Tokenizer, GPT2LMHeadModel\n",
        "\n",
        "# Load pre-trained tokenizer and model for text generation\n",
        "tokenizer = GPT2Tokenizer.from_pretrained('gpt2')\n",
        "model = GPT2LMHeadModel.from_pretrained('gpt2')\n",
        "\n",
        "print(\"GPT-2 model and tokenizer loaded successfully!\")"
      ]
    },
    {
      "cell_type": "code",
      "source": [
        "# Prompt\n",
        "prompt = \"How can I learn Python?\"\n",
        "input_ids = tokenizer.encode(prompt, return_tensors=\"pt\")"
      ],
      "metadata": {
        "id": "e-AWQwlN6Gm7"
      },
      "execution_count": 9,
      "outputs": []
    },
    {
      "cell_type": "code",
      "source": [
        "# Generate output\n",
        "output = model.generate(input_ids,\n",
        "                        max_length=100,\n",
        "                        num_return_sequences=1,\n",
        "                        temperature=0.8,\n",
        "                        top_p=0.9,\n",
        "                        top_k=50,\n",
        "                        do_sample=True,\n",
        "                        repetition_penalty=1.2)\n",
        "response_text = tokenizer.decode(output[0], skip_special_tokens=True)\n",
        "print(\"Model Response:\", response_text)"
      ],
      "metadata": {
        "colab": {
          "base_uri": "https://localhost:8080/"
        },
        "id": "WnrhyXP27BcG",
        "outputId": "a547abed-aa1c-49b8-f6e9-113466aa6aee"
      },
      "execution_count": 10,
      "outputs": [
        {
          "output_type": "stream",
          "name": "stderr",
          "text": [
            "The attention mask and the pad token id were not set. As a consequence, you may observe unexpected behavior. Please pass your input's `attention_mask` to obtain reliable results.\n",
            "Setting `pad_token_id` to `eos_token_id`:None for open-end generation.\n"
          ]
        },
        {
          "output_type": "stream",
          "name": "stdout",
          "text": [
            "Model Response: How can I learn Python?\n",
            "The first thing to know about programming is that you have no idea what it means. You do not understand the language, but instead use basic arithmetic and statistics for your day-to--day tasks while learning new languages like C or Java in a safe environment with high level of safety guarantees which make building systems as secure as possible even easier than before! And because we are so busy coding everything on our machines this makes life much harder too: every time something goes wrong\n"
          ]
        }
      ]
    }
  ]
}